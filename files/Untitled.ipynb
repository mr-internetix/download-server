{
 "cells": [
  {
   "cell_type": "markdown",
   "id": "77f1b759",
   "metadata": {},
   "source": [
    "# lexical"
   ]
  },
  {
   "cell_type": "code",
   "execution_count": 61,
   "id": "a70e0a54",
   "metadata": {},
   "outputs": [
    {
     "name": "stdout",
     "output_type": "stream",
     "text": [
      "['int', 'main()', '{', 'int', 'x', '=', '5;', 'int', 'y', '=', '6;', 'int', 'z', '=', 'x', '+', 'y;', 'return', '0;', '}']\n"
     ]
    },
    {
     "data": {
      "text/plain": [
       "[('keyword', 'int'),\n",
       " ('identifier', 'main()'),\n",
       " ('punctuation', '{'),\n",
       " ('keyword', 'int'),\n",
       " ('identifier', 'x'),\n",
       " ('operator', '='),\n",
       " ('identifier', '5;'),\n",
       " ('keyword', 'int'),\n",
       " ('identifier', 'y'),\n",
       " ('operator', '='),\n",
       " ('identifier', '6;'),\n",
       " ('keyword', 'int'),\n",
       " ('identifier', 'z'),\n",
       " ('operator', '='),\n",
       " ('identifier', 'x'),\n",
       " ('operator', '+'),\n",
       " ('identifier', 'y;'),\n",
       " ('identifier', 'return'),\n",
       " ('identifier', '0;'),\n",
       " ('punctuation', '}')]"
      ]
     },
     "execution_count": 61,
     "metadata": {},
     "output_type": "execute_result"
    }
   ],
   "source": [
    "def lexical_analysis(code):\n",
    "    # Create a list of tokens\n",
    "    tokens = []\n",
    "    \n",
    "    # Split the code into lines\n",
    "    lines = code.split()\n",
    "    print(lines)\n",
    "    # Iterate through each line of code\n",
    "    for word in lines:\n",
    "                \n",
    "        # Check if the word is a keyword\n",
    "        if word in [\"int\", \"float\", \"double\", \"char\", \"void\", \"for\", \"while\", \"if\", \"else\"]:\n",
    "            tokens.append((\"keyword\", word))\n",
    "            continue\n",
    "                \n",
    "            # Check if the word is an operator\n",
    "        if word in [\"+\", \"-\", \"*\", \"/\", \"=\", \"==\", \"!=\", \">\", \"<\", \">=\", \"<=\"]:\n",
    "            tokens.append((\"operator\", word))\n",
    "            continue\n",
    "                \n",
    "            # Check if the word is a punctuation mark\n",
    "        if word in [\";\", \",\", \"{\", \"}\"]:\n",
    "            tokens.append((\"punctuation\", word))\n",
    "            continue\n",
    "\n",
    "                \n",
    "            # If the word is none of the above, it is considered a identifier\n",
    "        tokens.append((\"identifier\", word))\n",
    "            \n",
    "    return tokens\n",
    "\n",
    "# Test the lexical analysis function\n",
    "code = \"\"\"\n",
    "int main() {\n",
    "  int x = 5;\n",
    "  int y = 6;\n",
    "  int z = x + y;\n",
    "  return 0;\n",
    "}\n",
    "\"\"\"\n",
    "lexical_analysis(code)"
   ]
  },
  {
   "cell_type": "markdown",
   "id": "ca4f1584",
   "metadata": {},
   "source": [
    "# Infix to postfix"
   ]
  },
  {
   "cell_type": "code",
   "execution_count": 88,
   "id": "38a8c697",
   "metadata": {},
   "outputs": [
    {
     "data": {
      "text/plain": [
       "'ABC/DA-+*'"
      ]
     },
     "execution_count": 88,
     "metadata": {},
     "output_type": "execute_result"
    }
   ],
   "source": [
    "# def inf_pos(exp):\n",
    "#     operators = ['+', '-', '*', '/', '(', ')']\n",
    "#     precedance = {'+':1, '-':1, '*':2, '/':2}\n",
    "#     postfix = \"\"\n",
    "#     stack = []\n",
    "    \n",
    "#     for i in exp:\n",
    "# #         print(f\"stack: {stack} postfix: {postfix}\")\n",
    "#         if i not in operators:\n",
    "#             postfix = postfix+i\n",
    "#         if i in operators:\n",
    "#             if len(stack)==0 or stack[-1]==\"(\":\n",
    "#                 stack.append(i)\n",
    "#             elif i == '(':\n",
    "#                 stack.append(i)\n",
    "#             elif i == ')':\n",
    "#                 while stack and stack[-1] != '(':\n",
    "#                     postfix += stack.pop()\n",
    "#                 stack.pop() # pop '('\n",
    "#             else: \n",
    "#                 while(precedance[stack[-1]] >= precedance[i] or stack[-1] == ')'):\n",
    "#                     postfix = postfix+stack[-1]\n",
    "#                     stack.pop(-1)\n",
    "#                     if len(stack) == 0:\n",
    "#                         continue\n",
    "#                 stack.append(i)\n",
    "#     for i in stack:\n",
    "#         if i ==\"(\" or i == \")\":\n",
    "#             pass\n",
    "#         else:\n",
    "#             postfix+=i\n",
    "            \n",
    "          \n",
    "#     return postfix\n",
    "\n",
    "# inf_pos('A+B/C*(D-A)')"
   ]
  },
  {
   "cell_type": "markdown",
   "id": "2307263a",
   "metadata": {},
   "source": [
    "# Postfix to 3ac"
   ]
  },
  {
   "cell_type": "code",
   "execution_count": 63,
   "id": "a5509ab5",
   "metadata": {},
   "outputs": [
    {
     "data": {
      "text/plain": [
       "4"
      ]
     },
     "execution_count": 63,
     "metadata": {},
     "output_type": "execute_result"
    }
   ],
   "source": [
    "lis = [1,2,3,4,5,56]\n",
    "lis[-3]"
   ]
  },
  {
   "cell_type": "code",
   "execution_count": 113,
   "id": "3c81887b",
   "metadata": {},
   "outputs": [
    {
     "name": "stdout",
     "output_type": "stream",
     "text": [
      "enter expression without spac: A+B/C*(D-A)\n",
      "stack: [] postfix: \n",
      "stack: [] postfix: A\n",
      "stack: ['+'] postfix: A\n",
      "stack: ['+'] postfix: AB\n",
      "stack: ['+', '/'] postfix: AB\n",
      "stack: ['+', '/'] postfix: ABC\n",
      "stack: ['+', '*'] postfix: ABC/\n",
      "stack: ['+', '*', '('] postfix: ABC/\n",
      "stack: ['+', '*', '('] postfix: ABC/D\n",
      "stack: ['+', '*', '(', '-'] postfix: ABC/D\n",
      "stack: ['+', '*', '(', '-'] postfix: ABC/DA\n",
      "ABC/DA-*\n",
      "### THREE ADDRESS CODE GENERATION ###\n",
      "[]\n",
      "['A']\n",
      "['A', 'B']\n",
      "['A', 'B', 'C']\n",
      "t1 := B / C\n",
      "['A', 't1']\n",
      "['A', 't1', 'D']\n",
      "['A', 't1', 'D', 'A']\n",
      "t2 := D - A\n",
      "['A', 't1', 't2']\n",
      "t3 := t1 * t2\n",
      "['t1 := B / C', 't2 := D - A', 't3 := t1 * t2']\n"
     ]
    }
   ],
   "source": [
    "def inf_pos(exp):\n",
    "    operators = ['+', '-', '*', '/', '(', ')']\n",
    "    precedance = {'+':1, '-':1, '*':2, '/':2}\n",
    "    postfix = \"\"\n",
    "    stack = []\n",
    "    \n",
    "    for i in exp:\n",
    "        print(f\"stack: {stack} postfix: {postfix}\")\n",
    "        if i not in operators:\n",
    "            postfix = postfix+i\n",
    "        if i in operators:\n",
    "            if len(stack)==0 or stack[-1]==\"(\":\n",
    "                stack.append(i)\n",
    "            elif i == '(':\n",
    "                stack.append(i)\n",
    "            elif i == ')':\n",
    "                while stack and stack[-1] != '(':\n",
    "                    postfix += stack.pop()\n",
    "                    stack.pop() # pop '('\n",
    "            else: \n",
    "                while(precedance[stack[-1]] >= precedance[i] or stack[-1] == ')'):\n",
    "                    postfix = postfix+stack[-1]\n",
    "                    stack.pop(-1)\n",
    "                    if len(stack) == 0:\n",
    "                        break\n",
    "                stack.append(i)\n",
    "\n",
    "    for item in stack:\n",
    "        print(f\"stack: {stack} postfix: {postfix}\")\n",
    "        if item == '(' or item == ')':\n",
    "            pass\n",
    "        else:\n",
    "            postfix = postfix+item\n",
    "            \n",
    "    print(postfix)      \n",
    "    return postfix\n",
    "\n",
    "\n",
    "def generate3AC(pos):\n",
    "\tprint(\"### THREE ADDRESS CODE GENERATION ###\")\n",
    "\texp_stack = []\n",
    "\tt = 1\n",
    "\top = []\n",
    "\tfor i in pos:\n",
    "\t\tprint(exp_stack)\n",
    "\t\tif i not in OPERATORS:\n",
    "\t\t\texp_stack.append(i)\n",
    "\t\telse:\n",
    "\t\t\tprint(f't{t} := {exp_stack[-2]} {i} {exp_stack[-1]}')\n",
    "\t\t\top.append((f't{t} := {exp_stack[-2]} {i} {exp_stack[-1]}'))\n",
    "\t\t\texp_stack=exp_stack[:-2]\n",
    "\t\t\texp_stack.append(f't{t}')\n",
    "\t\t\tt+=1\n",
    "\treturn op\n",
    "\n",
    "            \n",
    "def main():\n",
    "    exp = input(\"enter expression without spac: \")\n",
    "    pos = inf_pos(exp)\n",
    "    print(generate3AC(pos))\n",
    "    \n",
    "main()"
   ]
  },
  {
   "cell_type": "code",
   "execution_count": 108,
   "id": "4f91baa8",
   "metadata": {},
   "outputs": [
    {
     "name": "stdout",
     "output_type": "stream",
     "text": [
      "the valye of a is 1\n"
     ]
    }
   ],
   "source": [
    "a = 1\n",
    "print(f'the valye of a is {a}')"
   ]
  },
  {
   "cell_type": "markdown",
   "id": "794beed1",
   "metadata": {},
   "source": [
    "# 3AC"
   ]
  },
  {
   "cell_type": "code",
   "execution_count": 107,
   "id": "44f5ae6b",
   "metadata": {
    "scrolled": true
   },
   "outputs": [
    {
     "name": "stdout",
     "output_type": "stream",
     "text": [
      "INPUT THE EXPRESSION: A+B/C*(D-A)\n",
      "PREFIX: +A*/BC-DA\n",
      "['+', '*']\n",
      "POSTFIX: ABC/DA-*+\n",
      "### THREE ADDRESS CODE GENERATION ###\n",
      "t0 := B / C\n",
      "t1 := D - A\n",
      "t2 := t0 * t1\n",
      "t3 := A + t2\n"
     ]
    }
   ],
   "source": [
    "OPERATORS = set(['+', '-', '*', '/', '(', ')'])\n",
    "PRI = {'+':1, '-':1, '*':2, '/':2}\n",
    "\n",
    "### INFIX ===> POSTFIX ###\n",
    "def infix_to_postfix(formula):\n",
    "    stack = [] # only pop when the coming op has priority \n",
    "    output = ''\n",
    "    for ch in formula:\n",
    "        if ch not in OPERATORS:\n",
    "            output += ch\n",
    "        elif ch == '(':\n",
    "            stack.append('(')\n",
    "        elif ch == ')':\n",
    "            while stack and stack[-1] != '(':\n",
    "                output += stack.pop()\n",
    "            stack.pop() # pop '('\n",
    "        else:\n",
    "            while stack and stack[-1] != '(' and PRI[ch] <= PRI[stack[-1]]:\n",
    "                output += stack.pop()\n",
    "            stack.append(ch)\n",
    "    # leftover\n",
    "    print(stack)\n",
    "    while stack: \n",
    "    \toutput += stack.pop()\n",
    "    print(f'POSTFIX: {output}')\n",
    "    return output\n",
    "\n",
    "### THREE ADDRESS CODE GENERATION ###\n",
    "def generate3AC(pos):\n",
    "\tprint(\"### THREE ADDRESS CODE GENERATION ###\")\n",
    "\texp_stack = []\n",
    "\tt = 0\n",
    "\t\n",
    "\tfor i in pos:\n",
    "\t\tif i not in OPERATORS:\n",
    "\t\t\texp_stack.append(i)\n",
    "\t\telse:\n",
    "\t\t\tprint(f't{t} := {exp_stack[-2]} {i} {exp_stack[-1]}')\n",
    "\t\t\texp_stack=exp_stack[:-2]\n",
    "\t\t\texp_stack.append(f't{t}')\n",
    "\t\t\tt+=1\n",
    "\n",
    "expres = input(\"INPUT THE EXPRESSION: \")\n",
    "pre = infix_to_prefix(expres)\n",
    "pos = infix_to_postfix(expres)\n",
    "generate3AC(pos)"
   ]
  },
  {
   "cell_type": "code",
   "execution_count": 100,
   "id": "7ffc541a",
   "metadata": {
    "scrolled": true
   },
   "outputs": [
    {
     "name": "stdout",
     "output_type": "stream",
     "text": [
      "POSTFIX: ABC/DA-*+\n",
      "### THREE ADDRESS CODE GENERATION ###\n",
      "[]\n",
      "['A']\n",
      "['A', 'B']\n",
      "['A', 'B', 'C']\n",
      "t1 := B / C\n",
      "['A', 't1']\n",
      "['A', 't1', 'D']\n",
      "['A', 't1', 'D', 'A']\n",
      "t2 := D - A\n",
      "['A', 't1', 't2']\n",
      "t3 := t1 * t2\n",
      "['A', 't3']\n",
      "t4 := A + t3\n",
      "None\n"
     ]
    }
   ],
   "source": [
    "OPERATORS = set(['+', '-', '*', '/', '(', ')'])\n",
    "PRI = {'+':1, '-':1, '*':2, '/':2}\n",
    "\n",
    "### INFIX ===> POSTFIX ###\n",
    "def infix_to_postfix(formula):\n",
    "    stack = [] # only pop when the coming op has priority \n",
    "    output = ''\n",
    "    for ch in formula:\n",
    "        if ch not in OPERATORS:\n",
    "            output += ch\n",
    "        elif ch == '(':\n",
    "            stack.append('(')\n",
    "        elif ch == ')':\n",
    "            while stack and stack[-1] != '(':\n",
    "                output += stack.pop()\n",
    "            stack.pop() # pop '('\n",
    "        else:\n",
    "            while stack and stack[-1] != '(' and PRI[ch] <= PRI[stack[-1]]:\n",
    "                output += stack.pop()\n",
    "            stack.append(ch)\n",
    "    # leftover\n",
    "    while stack: \n",
    "    \toutput += stack.pop()\n",
    "    print(f'POSTFIX: {output}')\n",
    "    return output\n",
    "\n",
    "\n",
    "def generate3AC(pos):\n",
    "\tprint(\"### THREE ADDRESS CODE GENERATION ###\")\n",
    "\texp_stack = []\n",
    "\tt = 1\n",
    "\t\n",
    "\tfor i in pos:\n",
    "# \t\tprint(exp_stack)\n",
    "\t\tif i not in OPERATORS:\n",
    "\t\t\texp_stack.append(i)\n",
    "\t\telse:\n",
    "\t\t\tprint(f't{t} := {exp_stack[-2]} {i} {exp_stack[-1]}')\n",
    "\t\t\texp_stack=exp_stack[:-2]\n",
    "\t\t\texp_stack.append(f't{t}')\n",
    "\t\t\tt+=1\n",
    "x = infix_to_postfix(\"A+B/C*(D-A)\")\n",
    "print(generate3AC(x))"
   ]
  },
  {
   "cell_type": "markdown",
   "id": "0815cb6c",
   "metadata": {},
   "source": [
    "# Postfix evaluation"
   ]
  },
  {
   "cell_type": "code",
   "execution_count": 106,
   "id": "10772c00",
   "metadata": {},
   "outputs": [
    {
     "name": "stdout",
     "output_type": "stream",
     "text": [
      "[]\n",
      "[10]\n",
      "[10, 2]\n",
      "[26]\n",
      "23\n",
      "[]\n",
      "[10]\n",
      "[10, 5]\n",
      "[5.0]\n",
      "[5.0, 2]\n",
      "17.0\n"
     ]
    }
   ],
   "source": [
    "#!/usr/bin/env python\n",
    "# coding: utf-8\n",
    "\n",
    "# In[ ]:\n",
    "\n",
    "\n",
    "#Evaluation rule of a Postfix Expression states\n",
    "\n",
    "\n",
    "# # While reading the expression from left to right, push the element in the stack if it is an operand.\n",
    "# Pop the two operands from the stack, if the element is an operator and then evaluate it.\n",
    "# Push back the result of the evaluation. Repeat it till the end of the expression.\n",
    "# Algorithm\n",
    "# 1) Create a stack to store operands (or values).\n",
    "# 2) Scan the given expression and do following for every scanned element.\n",
    "# \n",
    "#      a) If the element is a number, push it into the stack\n",
    "#      b) If the element is a operator, pop operands for the operator from stack. Evaluate the operator and push the result back to the stack\n",
    "# 3) When the expression is ended, the number in the stack is the final answer\n",
    "\n",
    "# In[5]:\n",
    "\n",
    "\n",
    "def postfix_evaluation(s):\n",
    "    s=s.split()\n",
    "    n=len(s)\n",
    "    stack =[]\n",
    "\n",
    "    for i in range(n):\n",
    "        if s[i].isdigit():\n",
    "          #append function is equivalent to push\n",
    "            print(stack)\n",
    "            stack.append(int(s[i]))\n",
    "\n",
    "        elif s[i]==\"+\":\n",
    "            a=stack.pop()\n",
    "            b=stack.pop()\n",
    "            stack.append(a+b)\n",
    "\n",
    "        elif s[i]==\"*\":\n",
    "            a=stack.pop()\n",
    "            b=stack.pop()\n",
    "            stack.append(int(a)*int(b))\n",
    "\n",
    "        elif s[i]==\"/\":\n",
    "            a=stack.pop()\n",
    "            b=stack.pop()\n",
    "            stack.append(int(b)/int(a))\n",
    "\n",
    "        elif s[i]==\"-\":\n",
    "            a=stack.pop()\n",
    "            b=stack.pop()\n",
    "            stack.append(int(b)-int(a))            \n",
    "\n",
    "    return stack.pop()\n",
    "s=\"10 2 8 * + 3 -\"\n",
    "val=postfix_evaluation(s)\n",
    "print(val)\n",
    "\n",
    "s=\"10 5 3 - / 2 6 * +\"  # Original expression: 10/(5-3)+2*6\n",
    "val=postfix_evaluation(s)\n",
    "print(val)\n"
   ]
  },
  {
   "cell_type": "markdown",
   "id": "9d178e10",
   "metadata": {},
   "source": [
    "# First and follow"
   ]
  },
  {
   "cell_type": "code",
   "execution_count": 114,
   "id": "25c5948d",
   "metadata": {},
   "outputs": [
    {
     "name": "stdout",
     "output_type": "stream",
     "text": [
      "{'S': {'d', 'a', 'b', 'c'}, 'A': {'a'}, 'B': {'b'}, 'C': {'c'}, 'D': {'d'}}\n",
      "{'A': set(), 'B': set(), 'C': set(), 'D': set(), 'S': set()}\n"
     ]
    }
   ],
   "source": [
    "def first_follow(grammar, non_terminal, first, follow):\n",
    "    if non_terminal in first:\n",
    "        return\n",
    "    \n",
    "    first[non_terminal] = set()\n",
    "    for production in grammar[non_terminal]:\n",
    "        for symbol in production:\n",
    "            if symbol in grammar:\n",
    "                first_follow(grammar, symbol, first, follow)\n",
    "                first[non_terminal] |= first[symbol]\n",
    "            else:\n",
    "                first[non_terminal].add(symbol)\n",
    "                break\n",
    "    \n",
    "    if '' in first[non_terminal]:\n",
    "        follow[non_terminal] = set()\n",
    "        for key in grammar:\n",
    "            for production in grammar[key]:\n",
    "                if non_terminal in production:\n",
    "                    index = production.index(non_terminal)\n",
    "                    if index == len(production) - 1:\n",
    "                        follow[non_terminal] |= follow[key]\n",
    "                    else:\n",
    "                        follow[non_terminal] |= first[production[index+1]]\n",
    "                        if '' not in first[production[index+1]]:\n",
    "                            break\n",
    "        first[non_terminal].remove('')\n",
    "    else:\n",
    "        follow[non_terminal] = set()\n",
    "grammar = {\n",
    "    'S': ['AB', 'CD'],\n",
    "    'A': ['a', ''],\n",
    "    'B': ['b'],\n",
    "    'C': ['c'],\n",
    "    'D': ['d']\n",
    "}\n",
    "\n",
    "first = {}\n",
    "follow = {}\n",
    "\n",
    "for non_terminal in grammar:\n",
    "    first_follow(grammar, non_terminal, first, follow)\n",
    "\n",
    "print(first)\n",
    "print(follow)"
   ]
  },
  {
   "cell_type": "code",
   "execution_count": null,
   "id": "53087006",
   "metadata": {},
   "outputs": [],
   "source": []
  }
 ],
 "metadata": {
  "kernelspec": {
   "display_name": "Python 3 (ipykernel)",
   "language": "python",
   "name": "python3"
  },
  "language_info": {
   "codemirror_mode": {
    "name": "ipython",
    "version": 3
   },
   "file_extension": ".py",
   "mimetype": "text/x-python",
   "name": "python",
   "nbconvert_exporter": "python",
   "pygments_lexer": "ipython3",
   "version": "3.9.5"
  }
 },
 "nbformat": 4,
 "nbformat_minor": 5
}
